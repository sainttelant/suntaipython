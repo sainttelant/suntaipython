{
 "cells": [
  {
   "cell_type": "code",
   "execution_count": 1,
   "metadata": {},
   "outputs": [],
   "source": [
    "import cv2 as cv\n",
    "import numpy as np\n",
    " \n",
    "class Kalman2D(object):\n",
    "    '''\n",
    "    A class for 2D Kalman filtering\n",
    "    '''\n",
    " \n",
    "    def __init__(self, processNoiseCovariance=1e-4, measurementNoiseCovariance=1e-1, errorCovariancePost=0.1):\n",
    "        '''\n",
    "        Constructs a new Kalman2D object.  \n",
    "        For explanation of the error covariances see\n",
    "        http://en.wikipedia.org/wiki/Kalman_filter\n",
    "        '''\n",
    "        # 状态空间：位置--2d,速度--2d\n",
    "        \n",
    "        self.kalman=cv.KalmanFilter(4,2,0)\n",
    "        \n",
    "        #self.kalman_state = cv.CreateMat(4, 1, cv.CV_32FC1)\n",
    "        self.kalman.processNoiseCov = np.array([[1,0,0,0],[0,1,0,0],[0,0,1,0],[0,0,0,1]],np.float32)*0.03\n",
    "        self.kalman.measurementMatrix = np.array([[1,0,0,0],[0,1,0,1]],np.float32)\n",
    "        self.kalman.transitionMatrix=np.array([[1,0,1,0],[0,1,0,1],[0,0,1,0],[0,0,0,1]],np.float32)\n",
    "        \n",
    " \n",
    "        self.predicted = None\n",
    "        self.esitmated = None\n",
    " \n",
    "    def update(self, x, y):\n",
    "        '''\n",
    "        Updates the filter with a new X,Y measurement\n",
    "        '''\n",
    " \n",
    "        self.kalman.measurementMatrix[0, 0] = x\n",
    "        self.kalman.measurementMatrix[1, 0] = y\n",
    " \n",
    "        self.predicted = cv.KalmanFilter.predict(self.kalman)\n",
    "        self.corrected = cv.KalmanFilter.correct(self.kalman, self.kalman.measurementMatrix)\n",
    " \n",
    "    def getEstimate(self):\n",
    "        '''\n",
    "        Returns the current X,Y estimate.\n",
    "        '''\n",
    " \n",
    "        return self.corrected[0,0], self.corrected[1,0]\n",
    " \n",
    "    def getPrediction(self):\n",
    "        '''\n",
    "        Returns the current X,Y prediction.\n",
    "        '''\n",
    " \n",
    "        return self.predicted[0,0], self.predicted[1,0]\n"
   ]
  },
  {
   "cell_type": "code",
   "execution_count": null,
   "metadata": {},
   "outputs": [],
   "source": []
  }
 ],
 "metadata": {
  "kernelspec": {
   "display_name": "Python [conda root]",
   "language": "python",
   "name": "conda-root-py"
  },
  "language_info": {
   "codemirror_mode": {
    "name": "ipython",
    "version": 3
   },
   "file_extension": ".py",
   "mimetype": "text/x-python",
   "name": "python",
   "nbconvert_exporter": "python",
   "pygments_lexer": "ipython3",
   "version": "3.5.6"
  }
 },
 "nbformat": 4,
 "nbformat_minor": 2
}
