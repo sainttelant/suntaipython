{
 "cells": [
  {
   "cell_type": "code",
   "execution_count": 25,
   "metadata": {},
   "outputs": [
    {
     "name": "stdout",
     "output_type": "stream",
     "text": [
      "it begins to get libfilenames\n",
      "it opened a txt files to store libfile names\n",
      "it is a folder,ingore it\n",
      "it is a folder,ingore it\n",
      "it is a folder,ingore it\n",
      "finish aquire lib files'names\n"
     ]
    }
   ],
   "source": [
    "\"\"\"\n",
    "里面用到的主要是os和字符串的截取，可以参考\n",
    "\"\"\"\n",
    "\n",
    "from fuckfiles import aquireDetails\n",
    "\n",
    "def judgeFiles(path,allthing):\n",
    "    filenames=[]\n",
    "    for files in allthing:\n",
    "        abspath=os.path.join(path,files)\n",
    "        #print(\"abspath:\",abspath)\n",
    "        if os.path.isdir(abspath):\n",
    "            print(\"it is a folder,ingore it\")\n",
    "        if os.path.isfile(abspath):\n",
    "            \n",
    "            \"\"\"\n",
    "            reference\n",
    "            str='https://www.guahao.com/department/125809921947822000?isStd='\n",
    "            print(str.split('department/')[1].split('?')[0])\n",
    "            print(str.replace('department/','').replace(\"https://www.guahao.com/\",''))\n",
    "            \"\"\"\n",
    "            tailname=abspath.split(\".\")[1]\n",
    "            if tailname==\"lib\":\n",
    "                libfilename=abspath.split(\"/\")[-1]\n",
    "                filenames.append(libfilename)\n",
    "    return filenames\n",
    "\n",
    "def saveFileNameIntotxt(file,list_thing):\n",
    "    for filename in list_thing:\n",
    "        file.write(filename+\"\\n\")\n",
    "    \n",
    "    \n",
    "\n",
    "if __name__==\"__main__\":\n",
    "    print(\"it begins to get libfilenames\") \n",
    "    print(\"it opened a txt files to store libfile names\")\n",
    "    currentPath=os.getcwd()\n",
    "    k=aquireDetails(currentPath)\n",
    "    a=judgeFiles(currentPath,k)\n",
    "    with open(\"libfile.txt\",\"w+\") as f:\n",
    "        \n",
    "        saveFileNameIntotxt(f,a)\n",
    "    f.close()\n",
    "    print(\"finish aquire lib files'names\")"
   ]
  },
  {
   "cell_type": "code",
   "execution_count": null,
   "metadata": {},
   "outputs": [],
   "source": []
  },
  {
   "cell_type": "code",
   "execution_count": null,
   "metadata": {},
   "outputs": [],
   "source": []
  }
 ],
 "metadata": {
  "kernelspec": {
   "display_name": "Python [conda env:anaconda3]",
   "language": "python",
   "name": "conda-env-anaconda3-py"
  },
  "language_info": {
   "codemirror_mode": {
    "name": "ipython",
    "version": 3
   },
   "file_extension": ".py",
   "mimetype": "text/x-python",
   "name": "python",
   "nbconvert_exporter": "python",
   "pygments_lexer": "ipython3",
   "version": "3.5.6"
  }
 },
 "nbformat": 4,
 "nbformat_minor": 2
}
