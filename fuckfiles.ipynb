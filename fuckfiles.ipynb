{
 "cells": [
  {
   "cell_type": "code",
   "execution_count": 3,
   "metadata": {},
   "outputs": [
    {
     "name": "stdout",
     "output_type": "stream",
     "text": [
      "input the path of folders::ss\n"
     ]
    },
    {
     "ename": "FileNotFoundError",
     "evalue": "[Errno 2] No such file or directory: 'ss'",
     "output_type": "error",
     "traceback": [
      "\u001b[0;31m---------------------------------------------------------------------------\u001b[0m",
      "\u001b[0;31mFileNotFoundError\u001b[0m                         Traceback (most recent call last)",
      "\u001b[0;32m<ipython-input-3-bbe4528ee1e8>\u001b[0m in \u001b[0;36m<module>\u001b[0;34m()\u001b[0m\n\u001b[1;32m     68\u001b[0m     \u001b[0mpath\u001b[0m\u001b[0;34m=\u001b[0m\u001b[0minput\u001b[0m\u001b[0;34m(\u001b[0m\u001b[0;34m\"input the path of folders::\"\u001b[0m\u001b[0;34m)\u001b[0m\u001b[0;34m\u001b[0m\u001b[0m\n\u001b[1;32m     69\u001b[0m \u001b[0;34m\u001b[0m\u001b[0m\n\u001b[0;32m---> 70\u001b[0;31m     \u001b[0mk\u001b[0m\u001b[0;34m=\u001b[0m\u001b[0maquireDetails\u001b[0m\u001b[0;34m(\u001b[0m\u001b[0mpath\u001b[0m\u001b[0;34m)\u001b[0m\u001b[0;34m\u001b[0m\u001b[0m\n\u001b[0m\u001b[1;32m     71\u001b[0m     \u001b[0mcopyFiles\u001b[0m\u001b[0;34m(\u001b[0m\u001b[0mk\u001b[0m\u001b[0;34m)\u001b[0m\u001b[0;34m\u001b[0m\u001b[0m\n\u001b[1;32m     72\u001b[0m     \u001b[0mprint\u001b[0m\u001b[0;34m(\u001b[0m\u001b[0;34m\"files in above folders copied done!!!!!!!\"\u001b[0m\u001b[0;34m,\u001b[0m\u001b[0mfileph\u001b[0m\u001b[0;34m)\u001b[0m\u001b[0;34m\u001b[0m\u001b[0m\n",
      "\u001b[0;32m<ipython-input-3-bbe4528ee1e8>\u001b[0m in \u001b[0;36maquireDetails\u001b[0;34m(path)\u001b[0m\n\u001b[1;32m     24\u001b[0m \u001b[0;34m\u001b[0m\u001b[0m\n\u001b[1;32m     25\u001b[0m \u001b[0;32mdef\u001b[0m \u001b[0maquireDetails\u001b[0m\u001b[0;34m(\u001b[0m\u001b[0mpath\u001b[0m\u001b[0;34m)\u001b[0m\u001b[0;34m:\u001b[0m\u001b[0;34m\u001b[0m\u001b[0m\n\u001b[0;32m---> 26\u001b[0;31m     \u001b[0mallthings\u001b[0m\u001b[0;34m=\u001b[0m\u001b[0mos\u001b[0m\u001b[0;34m.\u001b[0m\u001b[0mlistdir\u001b[0m\u001b[0;34m(\u001b[0m\u001b[0mpath\u001b[0m\u001b[0;34m)\u001b[0m\u001b[0;34m\u001b[0m\u001b[0m\n\u001b[0m\u001b[1;32m     27\u001b[0m     \u001b[0;32mreturn\u001b[0m \u001b[0mallthings\u001b[0m\u001b[0;34m\u001b[0m\u001b[0m\n\u001b[1;32m     28\u001b[0m \u001b[0;34m\u001b[0m\u001b[0m\n",
      "\u001b[0;31mFileNotFoundError\u001b[0m: [Errno 2] No such file or directory: 'ss'"
     ]
    }
   ],
   "source": [
    "import os\n",
    "dirpaths=[]\n",
    "fileph=[]\n",
    "filenms=[]\n",
    "def copyingremoveInitPath(allthings):\n",
    "    for file in allthings:\n",
    "        print(\"目前的路径：\",os.getcwd())\n",
    "        juduipath=os.getcwd()\n",
    "        newpath=os.path.join(juduipath,file)+\"/\"\n",
    "        if os.path.isdir(newpath):\n",
    "            print(\"这是个文件夹:\",newpath)\n",
    "            os.chdir(file)\n",
    "            \n",
    "            print(\"目前的路径1：\",os.getcwd())\n",
    "            fanhui=aquireDetails(os.getcwd())\n",
    "            copyingremoveInitPath(fanhui)\n",
    "        else:\n",
    "            filename = os.path.splitext(file)[0];  \n",
    "            filetype = os.path.splitext(file)[1]; \n",
    "            filePath=path+filename+filetype\n",
    "            newname=path+filename\n",
    "            print(\"开始复制:\",\"copy\"+\" \"+filename+filetype+\" \"+filename+\".html\")\n",
    "            \n",
    "\n",
    "def aquireDetails(path):\n",
    "    allthings=os.listdir(path)\n",
    "    return allthings\n",
    "\n",
    "def copyFiles(allthings):\n",
    "    #print(\"current folder:\",os.getcwd())\n",
    "    for file in allthings:\n",
    "        Olddir = os.path.join(path, file)+\"/\"\n",
    "        abspath=os.path.join(os.getcwd(),Olddir)\n",
    "        print(\"current abspath:\",abspath)\n",
    "        if os.path.isdir(abspath):     #这个必须是绝对路径才能使用，晕！\n",
    "            print(\"this is a folder,now,display it:\",file)\n",
    "            os.chdir(path+\"/\"+file)\n",
    "           \n",
    "            print(\"current folder,should be entired,otherwise,the operation isn't correct!\",os.getcwd())\n",
    "            details=aquireDetails(os.getcwd())\n",
    "            #copyFiles(details)\n",
    "            copyingremoveInitPath(details)\n",
    "        else:\n",
    "            filename = os.path.splitext(file)[0];  \n",
    "            filetype = os.path.splitext(file)[1]; \n",
    "            filePath=path+filename+filetype\n",
    "            newname=path+filename\n",
    "            print(\"copying operation now\")\n",
    "            #os.system(\"copy\"+\" \"+filename+filetype+\" \"+filename+\".html\")\n",
    "            #print (\"current operation folder and processing details::\",os.getcwd(),\"copy\"+\" \"+filename+filetype+\" \"+filename+\".html\")\n",
    "\n",
    "\n",
    "    \n",
    "        \n",
    "if __name__ ==\"__main__\":\n",
    "    \"\"\"\n",
    "   \n",
    "    #print \"plz ensure the input folder only containing single layer folder,no folder inside anymore\"\n",
    "    print \"<<<<<<<<<<<<<<<<<<<<<<<<<<<<<<<<<<<<<<<>>>>>>>>>>>>>>>>>>>>>>>>>>>>>>>>>>>>>>>>>\"\n",
    "    print \"<<<<<<<<<<<<<<<<<<<<<<<<<<<<<<<<<<<<<<<>>>>>>>>>>>>>>>>>>>>>>>>>>>>>>>>>>>>>>>>>\"\n",
    "    print \"<<<<<<<<<<    Rule One: plz ensure the input folder only containing>>>>>>>>>>>>>\" \n",
    "    print \"<<<<<<<<<<    single layer folder,no folder inside anymore        >>>>>>>>>>>>>>\"\n",
    "    print \"<<<<<<<<<<    Rule Two: eg.input test11// or test11//dw_base      >>>>>>>>>>>>>>\"\n",
    "    print \"<<<<<<<<<<<<<<<<<<<<<<<<<<<<<<<<<<<<<<<>>>>>>>>>>>>>>>>>>>>>>>>>>>>>>>>>>>>>>>>>\"\n",
    "    print \"<<<<<<<<<<<<<<<<<<<<<<<<<<<<<<<<<<<<<<<>>>>>>>>>>>>>>>>>>>>>>>>>>>>>>>>>>>>>>>>>\"\n",
    "    \"\"\"\n",
    "    \n",
    "    path=input(\"input the path of folders::\")\n",
    "    \n",
    "    k=aquireDetails(path)\n",
    "    copyFiles(k)\n",
    "    print(\"files in above folders copied done!!!!!!!\",fileph)"
   ]
  },
  {
   "cell_type": "code",
   "execution_count": null,
   "metadata": {},
   "outputs": [],
   "source": []
  }
 ],
 "metadata": {
  "kernelspec": {
   "display_name": "Python [conda env:anaconda3]",
   "language": "python",
   "name": "conda-env-anaconda3-py"
  },
  "language_info": {
   "codemirror_mode": {
    "name": "ipython",
    "version": 3
   },
   "file_extension": ".py",
   "mimetype": "text/x-python",
   "name": "python",
   "nbconvert_exporter": "python",
   "pygments_lexer": "ipython3",
   "version": "3.5.6"
  }
 },
 "nbformat": 4,
 "nbformat_minor": 2
}
